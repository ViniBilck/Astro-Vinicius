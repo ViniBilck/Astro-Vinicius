{
 "cells": [
  {
   "cell_type": "code",
   "execution_count": null,
   "id": "c22605f8-e0c7-47bb-bdde-987af3ddb661",
   "metadata": {},
   "outputs": [],
   "source": [
    "%%node\n",
    "var data = [];\n",
    "for (var i = 0; i < 1000; i++) {\n",
    "    var x = 2*Math.PI * i/ 360;\n",
    "    var obj = {\n",
    "      x: x,\n",
    "      i: i,\n",
    "      sin: Math.sin(x),\n",
    "      cos: Math.cos(x),\n",
    "      tan: Math.tan(x)\n",
    "    };\n",
    "    data.push(obj);\n",
    "}\n",
    "display(data);"
   ]
  },
  {
   "cell_type": "code",
   "execution_count": null,
   "id": "58e8d515-7a4b-4ab4-bcc3-d2f5cd22fbfb",
   "metadata": {},
   "outputs": [],
   "source": []
  }
 ],
 "metadata": {
  "kernelspec": {
   "display_name": "Javascript (Node.js)",
   "language": "javascript",
   "name": "javascript"
  },
  "language_info": {
   "name": ""
  }
 },
 "nbformat": 4,
 "nbformat_minor": 5
}
